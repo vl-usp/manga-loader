{
 "cells": [
  {
   "cell_type": "markdown",
   "metadata": {},
   "source": [
    "### manga downlader from mangalib.me\n",
    "\n",
    "1) Get data from url\n",
    "2) Make json from data\n",
    "3) Make a download requests to make request file\n",
    "4) Generate an output file"
   ]
  },
  {
   "cell_type": "code",
   "execution_count": null,
   "metadata": {},
   "outputs": [],
   "source": [
    "MANGA_ALIAS=\"bungou-stray-dogs\"\n",
    "FROM=1\n",
    "TO=1\n",
    "\n",
    "\n",
    "LOAD_URL = \"https://mangalib.me/\"+MANGA_ALIAS+\"?section=chapters&ui=9141522\"\n",
    "DEBUG_MODE = True\n",
    "DATA_FOLDER_NAME = \"./data/\"+MANGA_ALIAS"
   ]
  },
  {
   "cell_type": "code",
   "execution_count": null,
   "metadata": {},
   "outputs": [],
   "source": [
    "#1 Get data from url\n",
    "\n",
    "from selenium import webdriver\n",
    "from selenium.webdriver.chrome.options import Options\n",
    "from selenium.webdriver.common.by import By\n",
    "\n",
    "# Setup Chrome options\n",
    "options = Options()\n",
    "options.add_experimental_option(\"prefs\", {\n",
    "    \"download.default_directory\": \"/home/vlusp/Downloads\",  # Set your preferred download directory\n",
    "    \"download.prompt_for_download\": False,\n",
    "    \"download.directory_upgrade\": True,\n",
    "    \"safebrowsing.enabled\": True\n",
    "})\n",
    "options.add_argument(\"--disable-blink-features=AutomationControlled\")\n",
    "options.add_argument(\"--auto-open-devtools-for-tabs\")\n",
    "options.add_argument(\"user-data-dir=selenium\")\n",
    "options.add_argument(\"user-agent=Mozilla/5.0 (Windows NT 10.0; Win64; x64) AppleWebKit/537.36 (KHTML, like Gecko) Chrome/91.0.4472.124 Safari/537.36\")\n",
    "\n",
    "# Setup driver\n",
    "driver = webdriver.Chrome(options=options)\n",
    "driver.maximize_window()\n",
    "\n",
    "#delete window properties for cloudflare\n",
    "driver.execute_cdp_cmd(\"Page.addScriptToEvaluateOnNewDocument\", {\n",
    "\t\"source\": \"\"\"\n",
    "\t\tdelete window.cdc_adoQpoasnfa76pfcZLmcfl_Array;\n",
    "        delete window.cdc_adoQpoasnfa76pfcZLmcfl_JSON;\n",
    "        delete window.cdc_adoQpoasnfa76pfcZLmcfl_Object;\n",
    "        delete window.cdc_adoQpoasnfa76pfcZLmcfl_Promise;\n",
    "        delete window.cdc_adoQpoasnfa76pfcZLmcfl_Proxy;\n",
    "        delete window.cdc_adoQpoasnfa76pfcZLmcfl_Symbol;\n",
    "\t\"\"\"\n",
    "})\n",
    "\n",
    "\n",
    "# Open the page\n",
    "driver.get(LOAD_URL)\n",
    "data = driver.page_source\n",
    "data\n"
   ]
  },
  {
   "cell_type": "code",
   "execution_count": null,
   "metadata": {},
   "outputs": [],
   "source": [
    "#2 Make json from data\n",
    "\n",
    "import json\n",
    "import os\n",
    "\n",
    "start = 'window.__DATA__ = '\n",
    "end = 'window._SITE_COLOR_'\n",
    "\n",
    "# slice data string to get json content\n",
    "filtered_data = data[data.find(start)+len(start):data.find(end)].rstrip()\n",
    "# remove last comma\n",
    "filtered_data = filtered_data[:-1]\n",
    "# convert to json\n",
    "json_data = json.loads(filtered_data)\n",
    "os.mkdir(DATA_FOLDER_NAME)\n",
    "# write all data to file (debug mode only)\n",
    "if DEBUG_MODE == True:\n",
    "        with open(DATA_FOLDER_NAME+'/all.json', 'w') as f:\n",
    "                json.dump(json_data, f)\n",
    "# write to file\n",
    "with open(DATA_FOLDER_NAME+'/manga.json', 'w') as f:\n",
    "        json.dump(json_data['manga'], f)\n",
    "# get chapters\n",
    "chapters_data = json_data['chapters']['list']\n",
    "# write to file\n",
    "with open(DATA_FOLDER_NAME+'/chapters.json', 'w') as f:\n",
    "        json.dump(chapters_data, f)\n",
    "chapters_data"
   ]
  },
  {
   "cell_type": "code",
   "execution_count": null,
   "metadata": {},
   "outputs": [],
   "source": [
    "#3 Make a download requests to make request file\n",
    "for i in range(len(chapters_data)):\n",
    "\titem = chapters_data[i]\n",
    "\tdriver.get(f'https://mangalib.me/download/{item[\"chapter_id\"]}')\n",
    "\tpre = driver.find_element(By.TAG_NAME, 'pre').text\n",
    "\timage_data = json.loads(pre)\n",
    "\titem['urls'] = []\n",
    "\tfor image in image_data['images']:\n",
    "\t\titem['urls'].append(f'{image_data[\"downloadServer\"]}/manga/{MANGA_ALIAS}/chapters/{image_data[\"chapter\"][\"slug\"]}/{image}')\n",
    "\tprint(item)\n",
    "\n",
    "with open(DATA_FOLDER_NAME + '/chapters.json', 'w') as f:\n",
    "\tjson.dump(chapters_data, f)"
   ]
  },
  {
   "cell_type": "code",
   "execution_count": null,
   "metadata": {},
   "outputs": [],
   "source": [
    "manga_data = json_data['manga']\n",
    "manga_data['chapters'] = chapters_data\n",
    "with open(DATA_FOLDER_NAME+'/manga.json', 'w') as f:\n",
    "        json.dump(manga_data, f)"
   ]
  },
  {
   "cell_type": "code",
   "execution_count": null,
   "metadata": {
    "vscode": {
     "languageId": "shellscript"
    }
   },
   "outputs": [],
   "source": [
    "#run this commands in terminal\n",
    "#!/bin/bash\n",
    "!make run MANGA_NAME=$MANGA_ALIAS VOL_FROM=$FROM VOL_TO=$TO WORKERS=8"
   ]
  }
 ],
 "metadata": {
  "kernelspec": {
   "display_name": "Python 3",
   "language": "python",
   "name": "python3"
  },
  "language_info": {
   "codemirror_mode": {
    "name": "ipython",
    "version": 3
   },
   "file_extension": ".py",
   "mimetype": "text/x-python",
   "name": "python",
   "nbconvert_exporter": "python",
   "pygments_lexer": "ipython3",
   "version": "3.10.12"
  }
 },
 "nbformat": 4,
 "nbformat_minor": 2
}
